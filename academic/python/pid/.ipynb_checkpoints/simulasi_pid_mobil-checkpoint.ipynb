{
 "cells": [
  {
   "cell_type": "code",
   "execution_count": 1,
   "id": "b2272ce7",
   "metadata": {},
   "outputs": [],
   "source": [
    "# load necessary libraries\n",
    "import numpy as np\n",
    "from tqdm import tqdm\n",
    "from matplotlib import pyplot as plt"
   ]
  },
  {
   "cell_type": "markdown",
   "id": "a27f0c20",
   "metadata": {},
   "source": [
    "## Fungsi dasar PID"
   ]
  },
  {
   "cell_type": "code",
   "execution_count": 2,
   "id": "2c0d4925",
   "metadata": {},
   "outputs": [],
   "source": [
    "def PID(Kp=1, Ti=1, Td=1, t_initial=0, u_bar=0, control_type='pid'):\n",
    "    \"\"\"Basic PID controller\n",
    "\n",
    "    args:\n",
    "    - Kp (int or float) default: 1 = proportional gain\n",
    "    - Ti (int or float) default: 1 = integral period\n",
    "    - Td (int or float) default: 1 = derivative period\n",
    "    - t_initial (int or float) default: 0 = initial time\n",
    "    - u_bar (int or float) default: 0 = base line for control signal\n",
    "    - control_type (str) default: 'pid' = choose control type, i.e. either 'p' (proportional only), 'pi' (proportional and integral), 'pd' (proportional and derivative), or 'pid' (full PID)\n",
    "\n",
    "    yield:\n",
    "    - u (float) = control signal\n",
    "\n",
    "    generator send():\n",
    "    - t, feedback, ref (list-like type) = time, feedback (output from model), and reference\n",
    "    \"\"\"\n",
    "    if not(control_type == 'p' or control_type == 'pi' or control_type == 'pd' or control_type == 'pid'):\n",
    "        raise ValueError(\"'control_type' arg only accepts either 'p', 'pi', 'pd', or 'pid'\")\n",
    "\n",
    "    # initialize stored data\n",
    "    e_prev = 0\n",
    "    t_prev = t_initial #-100\n",
    "    I = 0\n",
    "\n",
    "    # initial control\n",
    "    u = u_bar\n",
    "\n",
    "    while True:\n",
    "        # yield MV, wait for new t, PV, SP\n",
    "        t, feedback, ref = yield u\n",
    "\n",
    "        # PID calculations\n",
    "        e = ref - feedback\n",
    "        de = e - e_prev\n",
    "        dt = t - t_prev\n",
    "\n",
    "        P = Kp*e\n",
    "        I = I + e*dt\n",
    "        D = de/dt\n",
    "\n",
    "        if control_type == 'p':\n",
    "            u = u_bar + P\n",
    "        elif control_type == 'pi':\n",
    "            u = u_bar + Kp*(e + (1/Ti)*I)\n",
    "        elif control_type == 'pd':\n",
    "            u = u_bar + Kp*(e + Td*D)\n",
    "        else:\n",
    "            u = u_bar + Kp*(e + (1/Ti)*I + Td*D)\n",
    "\n",
    "        # update stored data for next iteration\n",
    "        e_prev = e\n",
    "        t_prev = t"
   ]
  },
  {
   "cell_type": "markdown",
   "id": "ae82bed5",
   "metadata": {},
   "source": [
    "## Fungsi Transfer Sistem\n",
    "\n",
    "Pastikan sinyal kontrol (MV) dapat menjadi input fungsi"
   ]
  },
  {
   "cell_type": "code",
   "execution_count": 3,
   "id": "5b162008",
   "metadata": {},
   "outputs": [],
   "source": [
    "def car_dynamics(b, v_in, u, m, dt):\n",
    "    \"\"\"Vehicle dynamics model\n",
    "\n",
    "    args:\n",
    "    - b (int or float) = friction constant (Nm/s)\n",
    "    - v_in (int or float) = input/initial speed (m/s)\n",
    "    - u (int or float) = control signal (N)\n",
    "    - m (int or float) = vehicle mass (kg)\n",
    "    - dt (int or float) = difference of time (s)\n",
    "\n",
    "    return:\n",
    "    v_out (float) = output/final speed (m/s)\n",
    "    \"\"\"\n",
    "    temp = (-b*v_in + u)/m\n",
    "    v_out = temp*dt + v_in\n",
    "    return v_out"
   ]
  },
  {
   "cell_type": "markdown",
   "id": "0dd1b608",
   "metadata": {},
   "source": [
    "## Nilai sembarang untuk awal sistem "
   ]
  },
  {
   "cell_type": "code",
   "execution_count": 4,
   "id": "991833db",
   "metadata": {},
   "outputs": [],
   "source": [
    "# define constants - arbitrary values\n",
    "Kp = 500\n",
    "Ti = 0.5\n",
    "Td = 0.1\n",
    "mass = 1000 #kg\n",
    "frict = 50 #Nm/s"
   ]
  },
  {
   "cell_type": "markdown",
   "id": "ad8de6ca",
   "metadata": {},
   "source": [
    "## Definisi objek fungsi PID"
   ]
  },
  {
   "cell_type": "code",
   "execution_count": 5,
   "id": "06713422",
   "metadata": {},
   "outputs": [
    {
     "data": {
      "text/plain": [
       "0"
      ]
     },
     "execution_count": 5,
     "metadata": {},
     "output_type": "execute_result"
    }
   ],
   "source": [
    "# declare PID controller\n",
    "controller = PID(Kp=Kp, Ti=Ti, Td=Td)\n",
    "controller.send(None) # initialize controller"
   ]
  },
  {
   "cell_type": "markdown",
   "id": "91522a35",
   "metadata": {},
   "source": [
    "## Nilai SP "
   ]
  },
  {
   "cell_type": "code",
   "execution_count": 6,
   "id": "59f95ff6",
   "metadata": {},
   "outputs": [],
   "source": [
    "# set speed reference\n",
    "ref = np.ones(shape=50) * 5"
   ]
  },
  {
   "cell_type": "markdown",
   "id": "e0632e76",
   "metadata": {},
   "source": [
    "## Variabel-Variabel kalkulasi"
   ]
  },
  {
   "cell_type": "code",
   "execution_count": 7,
   "id": "71c80149",
   "metadata": {},
   "outputs": [],
   "source": [
    "# define useful array variables\n",
    "feedback = np.zeros(shape=ref.shape)\n",
    "times = np.arange(start=1, stop=len(ref), step=1)\n",
    "u = np.zeros(shape=ref.shape)\n",
    "error = np.zeros(shape=ref.shape)\n",
    "t_prev = 0 # buffer to store previous time"
   ]
  },
  {
   "cell_type": "markdown",
   "id": "1d71d9b4",
   "metadata": {},
   "source": [
    "## Proses PID"
   ]
  },
  {
   "cell_type": "code",
   "execution_count": 8,
   "id": "6fd17ed8",
   "metadata": {},
   "outputs": [
    {
     "name": "stderr",
     "output_type": "stream",
     "text": [
      "100%|███████████████████████████████████████████████████████████████████████| 49/49 [00:00<00:00, 56153.25it/s]\n"
     ]
    }
   ],
   "source": [
    "# loop through each time t\n",
    "for t in tqdm(times):\n",
    "    error[t] = ref[t-1] - feedback[t-1] # get error at time t\n",
    "    u[t] = controller.send([t, feedback[t-1], ref[t-1]]) # calculate PID\n",
    "    feedback[t] = car_dynamics(b=frict, v_in=feedback[t-1], u=u[t], m=mass, dt=t-t_prev) # calculate model output\n",
    "    t_prev = t # store for next iteration"
   ]
  },
  {
   "cell_type": "markdown",
   "id": "e5624133",
   "metadata": {},
   "source": [
    "## Plotting"
   ]
  },
  {
   "cell_type": "code",
   "execution_count": 9,
   "id": "c0d09793",
   "metadata": {},
   "outputs": [
    {
     "data": {
      "text/plain": [
       "Text(0, 0.5, 'Speed (m/s)')"
      ]
     },
     "execution_count": 9,
     "metadata": {},
     "output_type": "execute_result"
    },
    {
     "data": {
      "image/png": "[encoded data removed]",
      "text/plain": [
       "<Figure size 720x504 with 1 Axes>"
      ]
     },
     "metadata": {
      "needs_background": "light"
     },
     "output_type": "display_data"
    }
   ],
   "source": [
    "# plot reference vs feedback\n",
    "plt.figure(figsize=(10,7))\n",
    "line1, = plt.plot([0] + times.tolist(), ref)\n",
    "line2, = plt.plot([0] + times.tolist(), feedback)\n",
    "plt.legend([line1, line2], ['Reference', 'Feedback'])\n",
    "plt.grid()\n",
    "plt.title(\"Reference vs Model Feedback\")\n",
    "plt.xlabel(\"Time (s)\")\n",
    "plt.ylabel(\"Speed (m/s)\")"
   ]
  },
  {
   "cell_type": "code",
   "execution_count": 10,
   "id": "b8e215c5",
   "metadata": {},
   "outputs": [
    {
     "name": "stderr",
     "output_type": "stream",
     "text": [
      "No handles with labels found to put in legend.\n"
     ]
    },
    {
     "data": {
      "text/plain": [
       "Text(0, 0.5, 'Force (N)')"
      ]
     },
     "execution_count": 10,
     "metadata": {},
     "output_type": "execute_result"
    },
    {
     "data": {
      "image/png": "[encoded data removed]",
      "text/plain": [
       "<Figure size 720x504 with 1 Axes>"
      ]
     },
     "metadata": {
      "needs_background": "light"
     },
     "output_type": "display_data"
    }
   ],
   "source": [
    "# plot u\n",
    "plt.figure(figsize=(10,7))\n",
    "plt.plot([0] + times.tolist(), u)\n",
    "plt.legend()\n",
    "plt.grid()\n",
    "plt.title(\"Output of the controller (u)\")\n",
    "plt.xlabel(\"Time (s)\")\n",
    "plt.ylabel(\"Force (N)\")"
   ]
  },
  {
   "cell_type": "code",
   "execution_count": 11,
   "id": "5a80849c",
   "metadata": {},
   "outputs": [
    {
     "name": "stderr",
     "output_type": "stream",
     "text": [
      "No handles with labels found to put in legend.\n"
     ]
    },
    {
     "data": {
      "text/plain": [
       "Text(0, 0.5, 'Error of speed (m/s)')"
      ]
     },
     "execution_count": 11,
     "metadata": {},
     "output_type": "execute_result"
    },
    {
     "data": {
      "image/png": "[encoded data removed]",
      "text/plain": [
       "<Figure size 720x504 with 1 Axes>"
      ]
     },
     "metadata": {
      "needs_background": "light"
     },
     "output_type": "display_data"
    }
   ],
   "source": [
    "# plot error\n",
    "plt.figure(figsize=(10,7))\n",
    "plt.plot([0] + times.tolist(), error)\n",
    "plt.legend()\n",
    "plt.grid()\n",
    "plt.title(\"Error between reference and model feedback\")\n",
    "plt.xlabel(\"Time (s)\")\n",
    "plt.ylabel(\"Error of speed (m/s)\")"
   ]
  },
  {
   "cell_type": "code",
   "execution_count": null,
   "id": "c21d1942",
   "metadata": {},
   "outputs": [],
   "source": []
  }
 ],
 "metadata": {
  "kernelspec": {
   "display_name": "Python 3 (ipykernel)",
   "language": "python",
   "name": "python3"
  },
  "language_info": {
   "codemirror_mode": {
    "name": "ipython",
    "version": 3
   },
   "file_extension": ".py",
   "mimetype": "text/x-python",
   "name": "python",
   "nbconvert_exporter": "python",
   "pygments_lexer": "ipython3",
   "version": "3.9.7"
  }
 },
 "nbformat": 4,
 "nbformat_minor": 5
}
