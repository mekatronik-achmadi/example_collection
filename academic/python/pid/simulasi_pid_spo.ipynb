{
 "cells": [
  {
   "cell_type": "markdown",
   "id": "b9380f9b",
   "metadata": {},
   "source": [
    "## Tutorial Acuan\n",
    "- https://utomorezadwi.medium.com/mendesain-pid-controller-from-scratch-menggunakan-python-1dd0aa1c806b"
   ]
  },
  {
   "cell_type": "code",
   "execution_count": 1,
   "id": "3c3bab47",
   "metadata": {},
   "outputs": [],
   "source": [
    "# load necessary libraries\n",
    "import numpy as np\n",
    "import matplotlib\n",
    "import matplotlib.pyplot as plt\n",
    "from numpy import genfromtxt as csv\n",
    "from tqdm import tqdm"
   ]
  },
  {
   "cell_type": "markdown",
   "id": "d570e5ca",
   "metadata": {},
   "source": [
    "## Fungsi Dasar PID"
   ]
  },
  {
   "cell_type": "code",
   "execution_count": 2,
   "id": "5aa99d7c",
   "metadata": {},
   "outputs": [],
   "source": [
    "def PID(Kp=1.0, Ti=1.0, Td=1.0, t_init=0.0, u_bar=0.0, con_type='pid'):\n",
    "    \"\"\" Basic PID Controller\n",
    "\n",
    "    args:\n",
    "    - Kp : Proportional gain\n",
    "    - Ti : integral period\n",
    "    - Td : derivative period\n",
    "    - t_init: initial time\n",
    "    - u_bar: base line control signal\n",
    "    - con_type: control type, either 'p', 'pi', 'pd', or 'pid'\n",
    "\n",
    "    yield:\n",
    "\n",
    "    u = control signal\n",
    "    \"\"\"\n",
    "\n",
    "    if not(con_type=='p' or con_type=='pi' or con_type=='pd' or con_type=='pid'):\n",
    "        raise ValueError(\"Controller Type Invalid\")\n",
    "\n",
    "    # init stored data\n",
    "    e_prev = 0\n",
    "    t_prev = t_init\n",
    "    I = 0\n",
    "\n",
    "    # init control\n",
    "    u = u_bar\n",
    "\n",
    "    while True:\n",
    "        # yield MV, wait new t, PV, SP\n",
    "        t, feedback, ref = yield u\n",
    "\n",
    "        # PID calculations\n",
    "        e = ref - feedback\n",
    "        de = e - e_prev\n",
    "        dt = t - t_prev\n",
    "\n",
    "        P = Kp * e\n",
    "        I = I + e*dt\n",
    "        D = de/dt\n",
    "\n",
    "        if con_type == 'p':\n",
    "            u = u_bar + P\n",
    "        elif con_type == 'pi':\n",
    "            u = u_bar + Kp * (I/Ti)\n",
    "        elif con_type == 'pd':\n",
    "            u = u_bar + Kp*(e + Td*D)\n",
    "        elif con_type == 'pid':\n",
    "            u = u_bar + Kp*(e + (I/Ti) + Td*D)\n",
    "        else:\n",
    "            raise ValueError(\"Controller Type Invalid\")\n",
    "\n",
    "        e_prev = e\n",
    "        t_prev = t"
   ]
  },
  {
   "cell_type": "markdown",
   "id": "ed37eec7",
   "metadata": {},
   "source": [
    "## Fungsi Transfer\n",
    "\n",
    "Berupa fungsi step dengan sinyal MV sebagai input ke fungsi."
   ]
  },
  {
   "cell_type": "code",
   "execution_count": 3,
   "id": "71d992a2",
   "metadata": {},
   "outputs": [],
   "source": [
    "def trans_func(xin=0.0, step_up=1.0, y_mul=1.0, u_now=0.0, u_error=0.0):\n",
    "    \"\"\" Step Function as Transfer Functions\n",
    "\n",
    "    args:\n",
    "    - xin : nilai input\n",
    "    - step_up : nilai axis fungsi step aktif\n",
    "    - y_mul : nilai multiplikasi saat fungsi aktif\n",
    "    - u_now : nilai sinyal MV\n",
    "    - u_error: nilai error pada sistem (opsional-arbitary)\n",
    "    \"\"\"\n",
    "\n",
    "    y_res = 0.0\n",
    "    if xin >= step_up:\n",
    "        y_res = y_mul  + u_now/100 + u_error\n",
    "\n",
    "    return y_res"
   ]
  },
  {
   "cell_type": "markdown",
   "id": "bb95afba",
   "metadata": {},
   "source": [
    "## Data CSV hasil pengujian fisik"
   ]
  },
  {
   "cell_type": "code",
   "execution_count": 4,
   "id": "382fe219",
   "metadata": {},
   "outputs": [],
   "source": [
    "# read previous experiment data form CSV\n",
    "data = csv('./percobaan_1.csv',delimiter=',')\n",
    "vinp = data[:,0]\n",
    "vrpm = data[:,1]\n",
    "vxin = np.arange(0, np.shape(vinp)[0], 1)"
   ]
  },
  {
   "cell_type": "markdown",
   "id": "abb088c2",
   "metadata": {},
   "source": [
    "## Deklarasi objek fungsi PID"
   ]
  },
  {
   "cell_type": "code",
   "execution_count": 5,
   "id": "b9d597de",
   "metadata": {},
   "outputs": [
    {
     "data": {
      "text/plain": [
       "0.0"
      ]
     },
     "execution_count": 5,
     "metadata": {},
     "output_type": "execute_result"
    }
   ],
   "source": [
    "# declare PID controller\n",
    "conPID = PID(Kp=10, Ti=1, Td=1, con_type='pid')\n",
    "conPID.send(None)"
   ]
  },
  {
   "cell_type": "markdown",
   "id": "214803bd",
   "metadata": {},
   "source": [
    "## Nilai SP dan input ke Fungsi Step"
   ]
  },
  {
   "cell_type": "code",
   "execution_count": 6,
   "id": "28d075be",
   "metadata": {},
   "outputs": [],
   "source": [
    "# define input for step function\n",
    "set_point = 0.3\n",
    "set_stepup = 9.0"
   ]
  },
  {
   "cell_type": "markdown",
   "id": "50d42429",
   "metadata": {},
   "source": [
    "## Variabel-variabel kalkulasi"
   ]
  },
  {
   "cell_type": "code",
   "execution_count": 7,
   "id": "071101cc",
   "metadata": {},
   "outputs": [],
   "source": [
    "# define PID process variabels\n",
    "xarray = np.zeros(shape=250) # just for data array length\n",
    "times = np.arange(start=1, stop=len(xarray), step=1) # input sesuai waktu urut\n",
    "y_pref = np.zeros(shape=xarray.shape)\n",
    "feedback = np.zeros(shape=xarray.shape)\n",
    "u = np.zeros(shape=xarray.shape)\n",
    "error = np.zeros(shape=xarray.shape)\n",
    "\n",
    "# buffer to store previous time\n",
    "t_prev = 0.0"
   ]
  },
  {
   "cell_type": "markdown",
   "id": "94fb4221",
   "metadata": {},
   "source": [
    "## Nilai fungsi transfer yang diharapkan"
   ]
  },
  {
   "cell_type": "code",
   "execution_count": 8,
   "id": "6a79f67a",
   "metadata": {},
   "outputs": [
    {
     "name": "stderr",
     "output_type": "stream",
     "text": [
      "100%|████████████████████████████████████████████████████████████████████| 249/249 [00:00<00:00, 102120.04it/s]\n"
     ]
    }
   ],
   "source": [
    "# preferred value of transfer function\n",
    "for t in tqdm(times):\n",
    "    y_pref[t] = trans_func(xin=t, step_up=set_stepup, y_mul=set_point)"
   ]
  },
  {
   "cell_type": "markdown",
   "id": "ba5a35ca",
   "metadata": {},
   "source": [
    "## Nilai fungsi transfer dengan PID\n",
    "\n",
    "**Catatan:** Feedback (PV) pada nilai axis step aktif sengaja ditentukan nilai konstan untuk awalan error"
   ]
  },
  {
   "cell_type": "code",
   "execution_count": 9,
   "id": "2fd6b611",
   "metadata": {},
   "outputs": [
    {
     "name": "stderr",
     "output_type": "stream",
     "text": [
      "100%|█████████████████████████████████████████████████████████████████████| 249/249 [00:00<00:00, 45334.97it/s]\n"
     ]
    }
   ],
   "source": [
    "# actual PID process\n",
    "for t in tqdm(times):\n",
    "    error[t] = feedback[t-1] - y_pref[t-1] # get error at time t\n",
    "    u[t] = conPID.send([t, feedback[t-1], y_pref[t-1]]) # calculate PID\n",
    "\n",
    "    if t==9:\n",
    "        feedback[t] = 0.7 # error overshoot at ON\n",
    "    else:\n",
    "        feedback[t] = trans_func(xin=t, step_up=set_stepup, y_mul=set_point, u_now=u[t], u_error=0.4)\n",
    "    t_prev = t"
   ]
  },
  {
   "cell_type": "markdown",
   "id": "89d89934",
   "metadata": {},
   "source": [
    "## Plotting"
   ]
  },
  {
   "cell_type": "code",
   "execution_count": 10,
   "id": "d3711997",
   "metadata": {},
   "outputs": [
    {
     "data": {
      "text/plain": [
       "Text(0.5, 1.0, 'Original SP vs PV')"
      ]
     },
     "execution_count": 10,
     "metadata": {},
     "output_type": "execute_result"
    },
    {
     "data": {
      "image/png": "[encoded data removed]",
      "text/plain": [
       "<Figure size 432x288 with 1 Axes>"
      ]
     },
     "metadata": {
      "needs_background": "light"
     },
     "output_type": "display_data"
    }
   ],
   "source": [
    "plt.plot(vxin, vinp, 'r', vxin, vrpm, 'b')\n",
    "plt.ylim(-0.1, 0.8)\n",
    "plt.xlim(0, 75)\n",
    "plt.title('Original SP vs PV')"
   ]
  },
  {
   "cell_type": "code",
   "execution_count": 11,
   "id": "1d6e167d",
   "metadata": {},
   "outputs": [
    {
     "data": {
      "text/plain": [
       "Text(0.5, 1.0, 'Simulated SP vs PV')"
      ]
     },
     "execution_count": 11,
     "metadata": {},
     "output_type": "execute_result"
    },
    {
     "data": {
      "image/png": "[encoded data removed]",
      "text/plain": [
       "<Figure size 432x288 with 1 Axes>"
      ]
     },
     "metadata": {
      "needs_background": "light"
     },
     "output_type": "display_data"
    }
   ],
   "source": [
    "plt.plot([0] + times.tolist(), y_pref, 'r', [0] + times.tolist(), feedback, 'b')\n",
    "plt.ylim(-0.1, 0.8)\n",
    "plt.xlim(0, 75)\n",
    "plt.title('Simulated SP vs PV')"
   ]
  },
  {
   "cell_type": "code",
   "execution_count": 12,
   "id": "7830a75a",
   "metadata": {},
   "outputs": [
    {
     "data": {
      "text/plain": [
       "Text(0.5, 1.0, 'Calculated SP vs Error')"
      ]
     },
     "execution_count": 12,
     "metadata": {},
     "output_type": "execute_result"
    },
    {
     "data": {
      "image/png": "[encoded data removed]",
      "text/plain": [
       "<Figure size 432x288 with 1 Axes>"
      ]
     },
     "metadata": {
      "needs_background": "light"
     },
     "output_type": "display_data"
    }
   ],
   "source": [
    "plt.plot([0] + times.tolist(), y_pref, 'r', [0] + times.tolist(), error, 'b')\n",
    "plt.ylim(-0.1, 0.8)\n",
    "plt.xlim(0,75)\n",
    "plt.title('Calculated SP vs Error')"
   ]
  },
  {
   "cell_type": "code",
   "execution_count": 13,
   "id": "d1d43631",
   "metadata": {},
   "outputs": [
    {
     "data": {
      "text/plain": [
       "Text(0.5, 1.0, 'Calculated SP vs MV')"
      ]
     },
     "execution_count": 13,
     "metadata": {},
     "output_type": "execute_result"
    },
    {
     "data": {
      "image/png": "[encoded data removed]",
      "text/plain": [
       "<Figure size 432x288 with 1 Axes>"
      ]
     },
     "metadata": {
      "needs_background": "light"
     },
     "output_type": "display_data"
    }
   ],
   "source": [
    "plt.plot([0] + times.tolist(), y_pref, 'r', [0] + times.tolist(), u, 'b')\n",
    "plt.xlim(0,75)\n",
    "plt.title('Calculated SP vs MV')"
   ]
  },
  {
   "cell_type": "code",
   "execution_count": null,
   "id": "450375a4",
   "metadata": {},
   "outputs": [],
   "source": []
  }
 ],
 "metadata": {
  "kernelspec": {
   "display_name": "Python 3 (ipykernel)",
   "language": "python",
   "name": "python3"
  },
  "language_info": {
   "codemirror_mode": {
    "name": "ipython",
    "version": 3
   },
   "file_extension": ".py",
   "mimetype": "text/x-python",
   "name": "python",
   "nbconvert_exporter": "python",
   "pygments_lexer": "ipython3",
   "version": "3.9.7"
  }
 },
 "nbformat": 4,
 "nbformat_minor": 5
}
